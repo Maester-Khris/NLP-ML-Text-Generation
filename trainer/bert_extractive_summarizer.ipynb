{
 "cells": [
  {
   "cell_type": "markdown",
   "metadata": {},
   "source": [
    "#### Fit and Export the model"
   ]
  },
  {
   "cell_type": "code",
   "execution_count": null,
   "metadata": {
    "vscode": {
     "languageId": "plaintext"
    }
   },
   "outputs": [],
   "source": [
    "!pip install bert-extractive-summarizer"
   ]
  },
  {
   "cell_type": "code",
   "execution_count": null,
   "metadata": {
    "vscode": {
     "languageId": "plaintext"
    }
   },
   "outputs": [],
   "source": [
    "import pickle\n",
    "from joblib import dump, load"
   ]
  },
  {
   "cell_type": "code",
   "execution_count": null,
   "metadata": {
    "vscode": {
     "languageId": "plaintext"
    }
   },
   "outputs": [],
   "source": [
    "from summarizer import Summarizer,TransformerSummarizer\n",
    "bert_model = Summarizer()\n",
    "\n",
    "dump(bert_model, 'bert_summarizer.joblib', compress=True)"
   ]
  },
  {
   "cell_type": "markdown",
   "metadata": {},
   "source": [
    "### Load and perform summarization with the model"
   ]
  },
  {
   "cell_type": "code",
   "execution_count": null,
   "metadata": {
    "vscode": {
     "languageId": "plaintext"
    }
   },
   "outputs": [],
   "source": [
    "savedmodel = load('bert_summarizer.joblib')"
   ]
  },
  {
   "cell_type": "code",
   "execution_count": null,
   "metadata": {
    "vscode": {
     "languageId": "plaintext"
    }
   },
   "outputs": [],
   "source": [
    "body = \"\"\"With over 4 years of experience as a Full Stack Software Engineer, I am now specializing in Cloud and Infrastructure Management, consistently delivering tailored solutions to enhance operational efficiency. A highlight of my career includes developing a custom supply chain management solution that automated critical tasks, resulting in a 30% increase in productivity for the client. Over the past 2 years, I have delivered more than 10 software applications, showcasing my ability to deliver high-quality projects on time.\n",
    "With a deep understanding of industry trends and a passion for innovation, I am equipped to bring unique insights and expertise to your team.\"\"\""
   ]
  },
  {
   "cell_type": "code",
   "execution_count": null,
   "metadata": {
    "vscode": {
     "languageId": "plaintext"
    }
   },
   "outputs": [],
   "source": [
    "test_summary = ''.join(savedmodel(body, min_length=30))\n",
    "print(test_summary)"
   ]
  }
 ],
 "metadata": {
  "language_info": {
   "name": "python"
  }
 },
 "nbformat": 4,
 "nbformat_minor": 2
}
